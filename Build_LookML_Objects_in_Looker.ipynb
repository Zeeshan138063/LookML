{
  "nbformat": 4,
  "nbformat_minor": 0,
  "metadata": {
    "colab": {
      "provenance": [],
      "toc_visible": true,
      "collapsed_sections": [
        "eEOmqp7YuZdC"
      ],
      "authorship_tag": "ABX9TyOwxEVhPPpZuH7LPpra5eJw",
      "include_colab_link": true
    },
    "kernelspec": {
      "name": "python3",
      "display_name": "Python 3"
    },
    "language_info": {
      "name": "python"
    }
  },
  "cells": [
    {
      "cell_type": "markdown",
      "metadata": {
        "id": "view-in-github",
        "colab_type": "text"
      },
      "source": [
        "<a href=\"https://colab.research.google.com/github/Zeeshan138063/LookML/blob/main/Build_LookML_Objects_in_Looker.ipynb\" target=\"_parent\"><img src=\"https://colab.research.google.com/assets/colab-badge.svg\" alt=\"Open In Colab\"/></a>"
      ]
    },
    {
      "cell_type": "markdown",
      "source": [
        "# Filtering Explores with LookML([GSP892](https://www.cloudskillsboost.google/course_templates/639/labs/468840))\n",
        "Lab 1 hour (Introductory)\n",
        "\n",
        "[Detailed Doc](https://docs.google.com/document/d/1IWG_-eGPFI-9GWUCvfoboVxXuu77okAtrFP_P40le2U/edit?usp=sharing)"
      ],
      "metadata": {
        "id": "eEOmqp7YuZdC"
      }
    },
    {
      "cell_type": "markdown",
      "source": [
        "## Overview\n",
        "Looker is a modern data platform in Google Cloud that lets you analyze and visualize your data interactively. You can use Looker to do in-depth data analysis, integrate insights across different data sources, build actionable data-driven workflows, and create custom data applications.\n",
        "Explores are data views that serve as the foundation for self-service exploration by the business users in Looker. In this lab, you learn how to take your Explores to the next level by applying filters to them.\n"
      ],
      "metadata": {
        "id": "kSwDGEIfuZ67"
      }
    },
    {
      "cell_type": "markdown",
      "source": [
        "## What you'll do\n",
        "In this lab, you learn how to:\n",
        "* Use the sql_always_where and sql_always_having filters\n",
        "* Use the always_filter\n",
        "* Use the conditionally_filter\n"
      ],
      "metadata": {
        "id": "VmMfpeJuuaSb"
      }
    },
    {
      "cell_type": "markdown",
      "source": [
        "## Types of Explore filters\n",
        "To filter an Explore, you need to apply a default WHERE or HAVING clause to every SQL query that gets generated in that Explore. There are three principal ways to filter an Explore:\n",
        "* sql_always_where and sql_always_having, which behave similarly and have the same use case\n",
        "* always_filter\n",
        "* conditionally_filter\n",
        "\n",
        "In the following sections, you learn about common use cases for each of these.\n"
      ],
      "metadata": {
        "id": "TWlMDdMR0Qz_"
      }
    },
    {
      "cell_type": "markdown",
      "source": [
        "## The sql_always_where and sql_always_having filters\n",
        "Both sql_always_where and sql_always_having allow you to add filters to an Explore that cannot be modified. This is useful when you have certain rows of data you always want to exclude from the Explore results.\n",
        "\n",
        "The sql_always_where filter is used to add a WHERE clause applied to dimensions in a SQL query, whereas sql_always_having is used to add a HAVING clause applied to measures in a SQL query. In addition to queries run explicitly by business users, the restriction will apply to dashboards, scheduled Looks, and embedded information that relies on that Explore.\n",
        "\n",
        "There will be no indication of the filter in the user interface, so business users are not informed that the data are being filtered, unless they have permission to look at the generated SQL. This is useful if you want to filter out certain values of the Explore, such as test or internal data."
      ],
      "metadata": {
        "id": "oRN0VJVU0ncJ"
      }
    },
    {
      "cell_type": "markdown",
      "source": [
        "## The always_filter\n",
        "\n",
        "The always_filter enables you to require users to include a certain set of filters that you define. You also define a default value for the filters. Though users may change your default value for their query, they cannot remove the filter entirely. This is helpful when you want users to always filter by specific dimensions, such as always filtering by order status or user country, so that they do not request all of the possible data at one time.\n",
        "\n",
        "The always_filter has a sub-parameter to define the specific filters using the same Looker filter expressions that are used to filter dimensions and measures. The dimensions provided in the filters sub-parameter identify the dimensions that users must provide values for, such as a value for order status or user country.\n",
        "\n",
        "The specific values provided for in the filters sub-parameter are the default values which can be changed by the business user. For example, while the default order status is “Complete”, business users can change this value to say orders with a different status like “Returned”. For additional information, review the Looker filter expressions document."
      ],
      "metadata": {
        "id": "VEGwOPp_00c3"
      }
    },
    {
      "cell_type": "markdown",
      "source": [
        "## The conditionally_filter\n",
        "\n",
        "Similar to the always_filter, the conditionally_filter adds a filter to the Explore frontend that is accessible by business users. The conditionally_filter parameter enables you to define a set of default filters that users can override if they apply at least one filter from a second list that you define.\n",
        "\n",
        "Although users can indeed change the filter operator and values, they cannot remove the filter itself unless they put a filter on a specific alternative field. This is helpful when you want to limit the amount of data that an business user requests, but you also want to give them a list of alternative dimensions that they can use to filter the data.\n",
        "\n",
        "Conditionally_filter has a sub-parameter to define the specific filters as well as a sub-parameter to define the alternative dimensions that can be used to filter the data. For example, conditionally_filter can be used to create a filter that only returns data for the past 1 year, unless a filter is applied to a user ID or state dimension. This is typically used to prevent users from accidentally creating very large queries that may be too expensive to run on your database."
      ],
      "metadata": {
        "id": "AR9_YaSo07Le"
      }
    },
    {
      "cell_type": "markdown",
      "source": [
        "## training_ecommerce.model\n"
      ],
      "metadata": {
        "id": "K6AwvXrKuava"
      }
    },
    {
      "cell_type": "code",
      "source": [
        "connection: \"bigquery_public_data_looker\"\n",
        "\n",
        "# include all the views\n",
        "include: \"/views/*.view\"\n",
        "include: \"/z_tests/*.lkml\"\n",
        "include: \"/**/*.dashboard\"\n",
        "\n",
        "datagroup: training_ecommerce_default_datagroup {\n",
        "  # sql_trigger: SELECT MAX(id) FROM etl_log;;\n",
        "  max_cache_age: \"1 hour\"\n",
        "}\n",
        "\n",
        "persist_with: training_ecommerce_default_datagroup\n",
        "\n",
        "label: \"E-Commerce Training\"\n",
        "\n",
        "explore: order_items {\n",
        "  # always_filter: {filters:[order_items.status: \"Complete\", users.country: \"USA\"]}\n",
        "  # sql_always_where: ${created_date} >= '2021-01-01' ;;\n",
        "  # sql_always_having: ${order_item_count} = 1 ;;\n",
        "  conditionally_filter: {\n",
        "    filters: [created_date: \"3 years\"]\n",
        "    unless: [users.id, users.state]\n",
        "  }\n",
        "  join: users {\n",
        "    type: left_outer\n",
        "    sql_on: ${order_items.user_id} = ${users.id} ;;\n",
        "    relationship: many_to_one\n",
        "  }\n",
        "\n",
        "  join: inventory_items {\n",
        "    type: left_outer\n",
        "    sql_on: ${order_items.inventory_item_id} = ${inventory_items.id} ;;\n",
        "    relationship: many_to_one\n",
        "  }\n",
        "\n",
        "  join: products {\n",
        "    type: left_outer\n",
        "    sql_on: ${inventory_items.product_id} = ${products.id} ;;\n",
        "    relationship: many_to_one\n",
        "  }\n",
        "\n",
        "  join: distribution_centers {\n",
        "    type: left_outer\n",
        "    sql_on: ${products.distribution_center_id} = ${distribution_centers.id} ;;\n",
        "    relationship: many_to_one\n",
        "  }\n",
        "}\n",
        "\n",
        "explore: events {\n",
        "  join: event_session_facts {\n",
        "    type: left_outer\n",
        "    sql_on: ${events.session_id} = ${event_session_facts.session_id} ;;\n",
        "    relationship: many_to_one\n",
        "  }\n",
        "  join: event_session_funnel {\n",
        "    type: left_outer\n",
        "    sql_on: ${events.session_id} = ${event_session_funnel.session_id} ;;\n",
        "    relationship: many_to_one\n",
        "  }\n",
        "  join: users {\n",
        "    type: left_outer\n",
        "    sql_on: ${events.user_id} = ${users.id} ;;\n",
        "    relationship: many_to_one\n",
        "  }\n",
        "}\n"
      ],
      "metadata": {
        "id": "yyfmIXvlzvRf"
      },
      "execution_count": null,
      "outputs": []
    },
    {
      "cell_type": "markdown",
      "source": [
        "# Build LookML Objects in Looker: Challenge Lab"
      ],
      "metadata": {
        "id": "00XlQ_W73NAH"
      }
    }
  ]
}